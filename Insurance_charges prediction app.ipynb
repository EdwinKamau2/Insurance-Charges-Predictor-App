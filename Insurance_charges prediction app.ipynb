{
 "cells": [
  {
   "cell_type": "code",
   "execution_count": 1,
   "metadata": {},
   "outputs": [],
   "source": [
    "#pip install pycaret[full]"
   ]
  },
  {
   "cell_type": "code",
   "execution_count": 2,
   "metadata": {},
   "outputs": [],
   "source": [
    "#pip install streamlit"
   ]
  },
  {
   "cell_type": "code",
   "execution_count": 3,
   "metadata": {},
   "outputs": [],
   "source": [
    "import pandas as pd\n",
    "import warnings\n",
    "warnings.filterwarnings('ignore')\n",
    "import seaborn as sns \n",
    "import matplotlib.pyplot as plt  \n",
    "import missingno as msn"
   ]
  },
  {
   "cell_type": "code",
   "execution_count": 4,
   "metadata": {},
   "outputs": [
    {
     "data": {
      "text/html": [
       "<div>\n",
       "<style scoped>\n",
       "    .dataframe tbody tr th:only-of-type {\n",
       "        vertical-align: middle;\n",
       "    }\n",
       "\n",
       "    .dataframe tbody tr th {\n",
       "        vertical-align: top;\n",
       "    }\n",
       "\n",
       "    .dataframe thead th {\n",
       "        text-align: right;\n",
       "    }\n",
       "</style>\n",
       "<table border=\"1\" class=\"dataframe\">\n",
       "  <thead>\n",
       "    <tr style=\"text-align: right;\">\n",
       "      <th></th>\n",
       "      <th>age</th>\n",
       "      <th>sex</th>\n",
       "      <th>bmi</th>\n",
       "      <th>children</th>\n",
       "      <th>smoker</th>\n",
       "      <th>region</th>\n",
       "      <th>charges</th>\n",
       "    </tr>\n",
       "  </thead>\n",
       "  <tbody>\n",
       "    <tr>\n",
       "      <th>0</th>\n",
       "      <td>19</td>\n",
       "      <td>female</td>\n",
       "      <td>27.900</td>\n",
       "      <td>0</td>\n",
       "      <td>yes</td>\n",
       "      <td>southwest</td>\n",
       "      <td>16884.92400</td>\n",
       "    </tr>\n",
       "    <tr>\n",
       "      <th>1</th>\n",
       "      <td>18</td>\n",
       "      <td>male</td>\n",
       "      <td>33.770</td>\n",
       "      <td>1</td>\n",
       "      <td>no</td>\n",
       "      <td>southeast</td>\n",
       "      <td>1725.55230</td>\n",
       "    </tr>\n",
       "    <tr>\n",
       "      <th>2</th>\n",
       "      <td>28</td>\n",
       "      <td>male</td>\n",
       "      <td>33.000</td>\n",
       "      <td>3</td>\n",
       "      <td>no</td>\n",
       "      <td>southeast</td>\n",
       "      <td>4449.46200</td>\n",
       "    </tr>\n",
       "    <tr>\n",
       "      <th>3</th>\n",
       "      <td>33</td>\n",
       "      <td>male</td>\n",
       "      <td>22.705</td>\n",
       "      <td>0</td>\n",
       "      <td>no</td>\n",
       "      <td>northwest</td>\n",
       "      <td>21984.47061</td>\n",
       "    </tr>\n",
       "    <tr>\n",
       "      <th>4</th>\n",
       "      <td>32</td>\n",
       "      <td>male</td>\n",
       "      <td>28.880</td>\n",
       "      <td>0</td>\n",
       "      <td>no</td>\n",
       "      <td>northwest</td>\n",
       "      <td>3866.85520</td>\n",
       "    </tr>\n",
       "    <tr>\n",
       "      <th>5</th>\n",
       "      <td>31</td>\n",
       "      <td>female</td>\n",
       "      <td>25.740</td>\n",
       "      <td>0</td>\n",
       "      <td>no</td>\n",
       "      <td>southeast</td>\n",
       "      <td>3756.62160</td>\n",
       "    </tr>\n",
       "    <tr>\n",
       "      <th>6</th>\n",
       "      <td>46</td>\n",
       "      <td>female</td>\n",
       "      <td>33.440</td>\n",
       "      <td>1</td>\n",
       "      <td>no</td>\n",
       "      <td>southeast</td>\n",
       "      <td>8240.58960</td>\n",
       "    </tr>\n",
       "    <tr>\n",
       "      <th>7</th>\n",
       "      <td>37</td>\n",
       "      <td>female</td>\n",
       "      <td>27.740</td>\n",
       "      <td>3</td>\n",
       "      <td>no</td>\n",
       "      <td>northwest</td>\n",
       "      <td>7281.50560</td>\n",
       "    </tr>\n",
       "    <tr>\n",
       "      <th>8</th>\n",
       "      <td>37</td>\n",
       "      <td>male</td>\n",
       "      <td>29.830</td>\n",
       "      <td>2</td>\n",
       "      <td>no</td>\n",
       "      <td>northeast</td>\n",
       "      <td>6406.41070</td>\n",
       "    </tr>\n",
       "    <tr>\n",
       "      <th>9</th>\n",
       "      <td>60</td>\n",
       "      <td>female</td>\n",
       "      <td>25.840</td>\n",
       "      <td>0</td>\n",
       "      <td>no</td>\n",
       "      <td>northwest</td>\n",
       "      <td>28923.13692</td>\n",
       "    </tr>\n",
       "  </tbody>\n",
       "</table>\n",
       "</div>"
      ],
      "text/plain": [
       "   age     sex     bmi  children smoker     region      charges\n",
       "0   19  female  27.900         0    yes  southwest  16884.92400\n",
       "1   18    male  33.770         1     no  southeast   1725.55230\n",
       "2   28    male  33.000         3     no  southeast   4449.46200\n",
       "3   33    male  22.705         0     no  northwest  21984.47061\n",
       "4   32    male  28.880         0     no  northwest   3866.85520\n",
       "5   31  female  25.740         0     no  southeast   3756.62160\n",
       "6   46  female  33.440         1     no  southeast   8240.58960\n",
       "7   37  female  27.740         3     no  northwest   7281.50560\n",
       "8   37    male  29.830         2     no  northeast   6406.41070\n",
       "9   60  female  25.840         0     no  northwest  28923.13692"
      ]
     },
     "execution_count": 4,
     "metadata": {},
     "output_type": "execute_result"
    }
   ],
   "source": [
    "data = pd.read_csv('insurance.csv')\n",
    "data.head(10)"
   ]
  },
  {
   "cell_type": "code",
   "execution_count": 5,
   "metadata": {},
   "outputs": [],
   "source": [
    "#Charges is the target variable as we will be predicting the patient charges using demographic and basic patient health risk metrics as covariates!\n",
    "\n",
    "#The objective is to build a web application that supports online as well as batch prediction using trained machine learning model and pipeline."
   ]
  },
  {
   "cell_type": "code",
   "execution_count": 6,
   "metadata": {},
   "outputs": [
    {
     "name": "stdout",
     "output_type": "stream",
     "text": [
      "<class 'pandas.core.frame.DataFrame'>\n",
      "RangeIndex: 1338 entries, 0 to 1337\n",
      "Data columns (total 7 columns):\n",
      " #   Column    Non-Null Count  Dtype  \n",
      "---  ------    --------------  -----  \n",
      " 0   age       1338 non-null   int64  \n",
      " 1   sex       1338 non-null   object \n",
      " 2   bmi       1338 non-null   float64\n",
      " 3   children  1338 non-null   int64  \n",
      " 4   smoker    1338 non-null   object \n",
      " 5   region    1338 non-null   object \n",
      " 6   charges   1338 non-null   float64\n",
      "dtypes: float64(2), int64(2), object(3)\n",
      "memory usage: 73.3+ KB\n"
     ]
    }
   ],
   "source": [
    "#EDA\n",
    "\n",
    "data.info()"
   ]
  },
  {
   "cell_type": "code",
   "execution_count": 7,
   "metadata": {},
   "outputs": [
    {
     "data": {
      "text/plain": [
       "age         False\n",
       "sex         False\n",
       "bmi         False\n",
       "children    False\n",
       "smoker      False\n",
       "region      False\n",
       "charges     False\n",
       "dtype: bool"
      ]
     },
     "execution_count": 7,
     "metadata": {},
     "output_type": "execute_result"
    }
   ],
   "source": [
    "data.isnull().any()"
   ]
  },
  {
   "cell_type": "code",
   "execution_count": 8,
   "metadata": {},
   "outputs": [
    {
     "data": {
      "text/plain": [
       "age         0\n",
       "sex         0\n",
       "bmi         0\n",
       "children    0\n",
       "smoker      0\n",
       "region      0\n",
       "charges     0\n",
       "dtype: int64"
      ]
     },
     "execution_count": 8,
     "metadata": {},
     "output_type": "execute_result"
    }
   ],
   "source": [
    "data.isna().sum()"
   ]
  },
  {
   "cell_type": "code",
   "execution_count": 9,
   "metadata": {},
   "outputs": [
    {
     "data": {
      "text/plain": [
       "Index(['age', 'sex', 'bmi', 'children', 'smoker', 'region', 'charges'], dtype='object')"
      ]
     },
     "execution_count": 9,
     "metadata": {},
     "output_type": "execute_result"
    }
   ],
   "source": [
    "data.columns"
   ]
  },
  {
   "cell_type": "code",
   "execution_count": 10,
   "metadata": {},
   "outputs": [
    {
     "data": {
      "text/plain": [
       "(1338, 7)"
      ]
     },
     "execution_count": 10,
     "metadata": {},
     "output_type": "execute_result"
    }
   ],
   "source": [
    "data.shape"
   ]
  },
  {
   "cell_type": "code",
   "execution_count": 11,
   "metadata": {},
   "outputs": [
    {
     "data": {
      "text/plain": [
       "age           47\n",
       "sex            2\n",
       "bmi          548\n",
       "children       6\n",
       "smoker         2\n",
       "region         4\n",
       "charges     1337\n",
       "dtype: int64"
      ]
     },
     "execution_count": 11,
     "metadata": {},
     "output_type": "execute_result"
    }
   ],
   "source": [
    "data.nunique()                  #Checking unique values in each column"
   ]
  },
  {
   "cell_type": "code",
   "execution_count": 12,
   "metadata": {},
   "outputs": [
    {
     "data": {
      "text/html": [
       "<div>\n",
       "<style scoped>\n",
       "    .dataframe tbody tr th:only-of-type {\n",
       "        vertical-align: middle;\n",
       "    }\n",
       "\n",
       "    .dataframe tbody tr th {\n",
       "        vertical-align: top;\n",
       "    }\n",
       "\n",
       "    .dataframe thead th {\n",
       "        text-align: right;\n",
       "    }\n",
       "</style>\n",
       "<table border=\"1\" class=\"dataframe\">\n",
       "  <thead>\n",
       "    <tr style=\"text-align: right;\">\n",
       "      <th></th>\n",
       "      <th>age</th>\n",
       "      <th>bmi</th>\n",
       "      <th>children</th>\n",
       "      <th>charges</th>\n",
       "    </tr>\n",
       "  </thead>\n",
       "  <tbody>\n",
       "    <tr>\n",
       "      <th>count</th>\n",
       "      <td>1338.000000</td>\n",
       "      <td>1338.000000</td>\n",
       "      <td>1338.000000</td>\n",
       "      <td>1338.000000</td>\n",
       "    </tr>\n",
       "    <tr>\n",
       "      <th>mean</th>\n",
       "      <td>39.207025</td>\n",
       "      <td>30.663397</td>\n",
       "      <td>1.094918</td>\n",
       "      <td>13270.422265</td>\n",
       "    </tr>\n",
       "    <tr>\n",
       "      <th>std</th>\n",
       "      <td>14.049960</td>\n",
       "      <td>6.098187</td>\n",
       "      <td>1.205493</td>\n",
       "      <td>12110.011237</td>\n",
       "    </tr>\n",
       "    <tr>\n",
       "      <th>min</th>\n",
       "      <td>18.000000</td>\n",
       "      <td>15.960000</td>\n",
       "      <td>0.000000</td>\n",
       "      <td>1121.873900</td>\n",
       "    </tr>\n",
       "    <tr>\n",
       "      <th>25%</th>\n",
       "      <td>27.000000</td>\n",
       "      <td>26.296250</td>\n",
       "      <td>0.000000</td>\n",
       "      <td>4740.287150</td>\n",
       "    </tr>\n",
       "    <tr>\n",
       "      <th>50%</th>\n",
       "      <td>39.000000</td>\n",
       "      <td>30.400000</td>\n",
       "      <td>1.000000</td>\n",
       "      <td>9382.033000</td>\n",
       "    </tr>\n",
       "    <tr>\n",
       "      <th>75%</th>\n",
       "      <td>51.000000</td>\n",
       "      <td>34.693750</td>\n",
       "      <td>2.000000</td>\n",
       "      <td>16639.912515</td>\n",
       "    </tr>\n",
       "    <tr>\n",
       "      <th>max</th>\n",
       "      <td>64.000000</td>\n",
       "      <td>53.130000</td>\n",
       "      <td>5.000000</td>\n",
       "      <td>63770.428010</td>\n",
       "    </tr>\n",
       "  </tbody>\n",
       "</table>\n",
       "</div>"
      ],
      "text/plain": [
       "               age          bmi     children       charges\n",
       "count  1338.000000  1338.000000  1338.000000   1338.000000\n",
       "mean     39.207025    30.663397     1.094918  13270.422265\n",
       "std      14.049960     6.098187     1.205493  12110.011237\n",
       "min      18.000000    15.960000     0.000000   1121.873900\n",
       "25%      27.000000    26.296250     0.000000   4740.287150\n",
       "50%      39.000000    30.400000     1.000000   9382.033000\n",
       "75%      51.000000    34.693750     2.000000  16639.912515\n",
       "max      64.000000    53.130000     5.000000  63770.428010"
      ]
     },
     "execution_count": 12,
     "metadata": {},
     "output_type": "execute_result"
    }
   ],
   "source": [
    "data.describe()"
   ]
  },
  {
   "cell_type": "code",
   "execution_count": 13,
   "metadata": {},
   "outputs": [
    {
     "data": {
      "text/html": [
       "<div>\n",
       "<style scoped>\n",
       "    .dataframe tbody tr th:only-of-type {\n",
       "        vertical-align: middle;\n",
       "    }\n",
       "\n",
       "    .dataframe tbody tr th {\n",
       "        vertical-align: top;\n",
       "    }\n",
       "\n",
       "    .dataframe thead th {\n",
       "        text-align: right;\n",
       "    }\n",
       "</style>\n",
       "<table border=\"1\" class=\"dataframe\">\n",
       "  <thead>\n",
       "    <tr style=\"text-align: right;\">\n",
       "      <th></th>\n",
       "      <th>age</th>\n",
       "      <th>bmi</th>\n",
       "      <th>children</th>\n",
       "      <th>charges</th>\n",
       "    </tr>\n",
       "  </thead>\n",
       "  <tbody>\n",
       "    <tr>\n",
       "      <th>age</th>\n",
       "      <td>1.000000</td>\n",
       "      <td>0.109272</td>\n",
       "      <td>0.042469</td>\n",
       "      <td>0.299008</td>\n",
       "    </tr>\n",
       "    <tr>\n",
       "      <th>bmi</th>\n",
       "      <td>0.109272</td>\n",
       "      <td>1.000000</td>\n",
       "      <td>0.012759</td>\n",
       "      <td>0.198341</td>\n",
       "    </tr>\n",
       "    <tr>\n",
       "      <th>children</th>\n",
       "      <td>0.042469</td>\n",
       "      <td>0.012759</td>\n",
       "      <td>1.000000</td>\n",
       "      <td>0.067998</td>\n",
       "    </tr>\n",
       "    <tr>\n",
       "      <th>charges</th>\n",
       "      <td>0.299008</td>\n",
       "      <td>0.198341</td>\n",
       "      <td>0.067998</td>\n",
       "      <td>1.000000</td>\n",
       "    </tr>\n",
       "  </tbody>\n",
       "</table>\n",
       "</div>"
      ],
      "text/plain": [
       "               age       bmi  children   charges\n",
       "age       1.000000  0.109272  0.042469  0.299008\n",
       "bmi       0.109272  1.000000  0.012759  0.198341\n",
       "children  0.042469  0.012759  1.000000  0.067998\n",
       "charges   0.299008  0.198341  0.067998  1.000000"
      ]
     },
     "execution_count": 13,
     "metadata": {},
     "output_type": "execute_result"
    }
   ],
   "source": [
    "data.corr()"
   ]
  },
  {
   "cell_type": "code",
   "execution_count": 14,
   "metadata": {},
   "outputs": [
    {
     "data": {
      "image/png": "[encoded data removed]",
      "text/plain": [
       "<Figure size 576x432 with 1 Axes>"
      ]
     },
     "metadata": {
      "needs_background": "light"
     },
     "output_type": "display_data"
    }
   ],
   "source": [
    "# Data Visualization\n",
    "\n",
    "sns.set_palette('pastel')\n",
    "plt.figure(figsize=(8,6))\n",
    "sns.countplot(x='children',data=data)\n",
    "plt.title('Children Value Counts')\n",
    "plt.show()"
   ]
  },
  {
   "cell_type": "code",
   "execution_count": 15,
   "metadata": {},
   "outputs": [
    {
     "data": {
      "image/png": "[encoded data removed]",
      "text/plain": [
       "<Figure size 576x432 with 1 Axes>"
      ]
     },
     "metadata": {
      "needs_background": "light"
     },
     "output_type": "display_data"
    }
   ],
   "source": [
    "#BMI frequency density curve\n",
    "\n",
    "plt.figure(figsize=(8,6))\n",
    "sns.distplot(data.bmi,color='blue')\n",
    "plt.title('bmi density')\n",
    "plt.show()"
   ]
  },
  {
   "cell_type": "code",
   "execution_count": 16,
   "metadata": {},
   "outputs": [
    {
     "data": {
      "text/plain": [
       "southeast    364\n",
       "southwest    325\n",
       "northwest    325\n",
       "northeast    324\n",
       "Name: region, dtype: int64"
      ]
     },
     "execution_count": 16,
     "metadata": {},
     "output_type": "execute_result"
    }
   ],
   "source": [
    "data.region.value_counts()"
   ]
  },
  {
   "cell_type": "code",
   "execution_count": 17,
   "metadata": {},
   "outputs": [
    {
     "data": {
      "text/plain": [
       "sex\n",
       "female    39.503021\n",
       "male      38.917160\n",
       "Name: age, dtype: float64"
      ]
     },
     "execution_count": 17,
     "metadata": {},
     "output_type": "execute_result"
    }
   ],
   "source": [
    "data.groupby('sex')['age'].mean()       # Grouping age by sex and finding average age of each sex"
   ]
  },
  {
   "cell_type": "code",
   "execution_count": 18,
   "metadata": {},
   "outputs": [
    {
     "data": {
      "text/html": [
       "<div>\n",
       "<style scoped>\n",
       "    .dataframe tbody tr th:only-of-type {\n",
       "        vertical-align: middle;\n",
       "    }\n",
       "\n",
       "    .dataframe tbody tr th {\n",
       "        vertical-align: top;\n",
       "    }\n",
       "\n",
       "    .dataframe thead th {\n",
       "        text-align: right;\n",
       "    }\n",
       "</style>\n",
       "<table border=\"1\" class=\"dataframe\">\n",
       "  <thead>\n",
       "    <tr style=\"text-align: right;\">\n",
       "      <th></th>\n",
       "      <th>age</th>\n",
       "      <th>charges</th>\n",
       "    </tr>\n",
       "    <tr>\n",
       "      <th>sex</th>\n",
       "      <th></th>\n",
       "      <th></th>\n",
       "    </tr>\n",
       "  </thead>\n",
       "  <tbody>\n",
       "    <tr>\n",
       "      <th>female</th>\n",
       "      <td>39.503021</td>\n",
       "      <td>12569.578844</td>\n",
       "    </tr>\n",
       "    <tr>\n",
       "      <th>male</th>\n",
       "      <td>38.917160</td>\n",
       "      <td>13956.751178</td>\n",
       "    </tr>\n",
       "  </tbody>\n",
       "</table>\n",
       "</div>"
      ],
      "text/plain": [
       "              age       charges\n",
       "sex                            \n",
       "female  39.503021  12569.578844\n",
       "male    38.917160  13956.751178"
      ]
     },
     "execution_count": 18,
     "metadata": {},
     "output_type": "execute_result"
    }
   ],
   "source": [
    "data.groupby('sex')['age','charges'].mean()"
   ]
  },
  {
   "cell_type": "code",
   "execution_count": 19,
   "metadata": {},
   "outputs": [
    {
     "data": {
      "image/png": "[encoded data removed]",
      "text/plain": [
       "<Figure size 576x432 with 1 Axes>"
      ]
     },
     "metadata": {
      "needs_background": "light"
     },
     "output_type": "display_data"
    }
   ],
   "source": [
    "plt.figure(figsize=(8,6))\n",
    "sns.distplot(data.charges,color='blue')\n",
    "plt.title('Charges Density Curve')\n",
    "plt.show()"
   ]
  },
  {
   "cell_type": "code",
   "execution_count": 20,
   "metadata": {},
   "outputs": [
    {
     "data": {
      "image/png": "[encoded data removed]",
      "text/plain": [
       "<Figure size 720x576 with 1 Axes>"
      ]
     },
     "metadata": {
      "needs_background": "light"
     },
     "output_type": "display_data"
    }
   ],
   "source": [
    "plt.figure(figsize=(10,8))\n",
    "sns.scatterplot(x='bmi',y='charges',data=data,color='#8E388E')\n",
    "plt.title('BMI vs Charges Scatter Plot')\n",
    "plt.show()"
   ]
  },
  {
   "cell_type": "code",
   "execution_count": 21,
   "metadata": {},
   "outputs": [],
   "source": [
    "#People with abnormarly high BMI tend to experience higher charges."
   ]
  },
  {
   "cell_type": "code",
   "execution_count": 22,
   "metadata": {},
   "outputs": [
    {
     "data": {
      "image/png": "[encoded data removed]",
      "text/plain": [
       "<Figure size 720x432 with 1 Axes>"
      ]
     },
     "metadata": {
      "needs_background": "light"
     },
     "output_type": "display_data"
    }
   ],
   "source": [
    "#Finding outliers\n",
    "\n",
    "plt.figure(figsize=(10,6))\n",
    "sns.boxplot(data.bmi)\n",
    "plt.title('Data with outliers')\n",
    "plt.show()\n"
   ]
  },
  {
   "cell_type": "code",
   "execution_count": 23,
   "metadata": {},
   "outputs": [
    {
     "data": {
      "text/plain": [
       "count    1338.000000\n",
       "mean       30.663397\n",
       "std         6.098187\n",
       "min        15.960000\n",
       "25%        26.296250\n",
       "50%        30.400000\n",
       "75%        34.693750\n",
       "max        53.130000\n",
       "Name: bmi, dtype: float64"
      ]
     },
     "execution_count": 23,
     "metadata": {},
     "output_type": "execute_result"
    }
   ],
   "source": [
    "data.bmi.describe()"
   ]
  },
  {
   "cell_type": "code",
   "execution_count": 24,
   "metadata": {},
   "outputs": [
    {
     "data": {
      "text/html": [
       "<div>\n",
       "<style scoped>\n",
       "    .dataframe tbody tr th:only-of-type {\n",
       "        vertical-align: middle;\n",
       "    }\n",
       "\n",
       "    .dataframe tbody tr th {\n",
       "        vertical-align: top;\n",
       "    }\n",
       "\n",
       "    .dataframe thead th {\n",
       "        text-align: right;\n",
       "    }\n",
       "</style>\n",
       "<table border=\"1\" class=\"dataframe\">\n",
       "  <thead>\n",
       "    <tr style=\"text-align: right;\">\n",
       "      <th></th>\n",
       "      <th>age</th>\n",
       "      <th>sex</th>\n",
       "      <th>bmi</th>\n",
       "      <th>children</th>\n",
       "      <th>smoker</th>\n",
       "      <th>region</th>\n",
       "      <th>charges</th>\n",
       "    </tr>\n",
       "  </thead>\n",
       "  <tbody>\n",
       "    <tr>\n",
       "      <th>0</th>\n",
       "      <td>19</td>\n",
       "      <td>female</td>\n",
       "      <td>27.900</td>\n",
       "      <td>0</td>\n",
       "      <td>yes</td>\n",
       "      <td>southwest</td>\n",
       "      <td>16884.92400</td>\n",
       "    </tr>\n",
       "    <tr>\n",
       "      <th>1</th>\n",
       "      <td>18</td>\n",
       "      <td>male</td>\n",
       "      <td>33.770</td>\n",
       "      <td>1</td>\n",
       "      <td>no</td>\n",
       "      <td>southeast</td>\n",
       "      <td>1725.55230</td>\n",
       "    </tr>\n",
       "    <tr>\n",
       "      <th>2</th>\n",
       "      <td>28</td>\n",
       "      <td>male</td>\n",
       "      <td>33.000</td>\n",
       "      <td>3</td>\n",
       "      <td>no</td>\n",
       "      <td>southeast</td>\n",
       "      <td>4449.46200</td>\n",
       "    </tr>\n",
       "    <tr>\n",
       "      <th>3</th>\n",
       "      <td>33</td>\n",
       "      <td>male</td>\n",
       "      <td>22.705</td>\n",
       "      <td>0</td>\n",
       "      <td>no</td>\n",
       "      <td>northwest</td>\n",
       "      <td>21984.47061</td>\n",
       "    </tr>\n",
       "    <tr>\n",
       "      <th>4</th>\n",
       "      <td>32</td>\n",
       "      <td>male</td>\n",
       "      <td>28.880</td>\n",
       "      <td>0</td>\n",
       "      <td>no</td>\n",
       "      <td>northwest</td>\n",
       "      <td>3866.85520</td>\n",
       "    </tr>\n",
       "  </tbody>\n",
       "</table>\n",
       "</div>"
      ],
      "text/plain": [
       "   age     sex     bmi  children smoker     region      charges\n",
       "0   19  female  27.900         0    yes  southwest  16884.92400\n",
       "1   18    male  33.770         1     no  southeast   1725.55230\n",
       "2   28    male  33.000         3     no  southeast   4449.46200\n",
       "3   33    male  22.705         0     no  northwest  21984.47061\n",
       "4   32    male  28.880         0     no  northwest   3866.85520"
      ]
     },
     "metadata": {},
     "output_type": "display_data"
    }
   ],
   "source": [
    "import pycaret\n",
    "from pycaret.datasets import get_data\n",
    "data = get_data('insurance')"
   ]
  },
  {
   "cell_type": "code",
   "execution_count": 25,
   "metadata": {},
   "outputs": [
    {
     "data": {
      "text/html": [
       "<style type=\"text/css\">\n",
       "#T_da273_row9_col1 {\n",
       "  background-color: lightgreen;\n",
       "}\n",
       "</style>\n",
       "<table id=\"T_da273\">\n",
       "  <thead>\n",
       "    <tr>\n",
       "      <th class=\"blank level0\" >&nbsp;</th>\n",
       "      <th id=\"T_da273_level0_col0\" class=\"col_heading level0 col0\" >Description</th>\n",
       "      <th id=\"T_da273_level0_col1\" class=\"col_heading level0 col1\" >Value</th>\n",
       "    </tr>\n",
       "  </thead>\n",
       "  <tbody>\n",
       "    <tr>\n",
       "      <th id=\"T_da273_level0_row0\" class=\"row_heading level0 row0\" >0</th>\n",
       "      <td id=\"T_da273_row0_col0\" class=\"data row0 col0\" >Session id</td>\n",
       "      <td id=\"T_da273_row0_col1\" class=\"data row0 col1\" >123</td>\n",
       "    </tr>\n",
       "    <tr>\n",
       "      <th id=\"T_da273_level0_row1\" class=\"row_heading level0 row1\" >1</th>\n",
       "      <td id=\"T_da273_row1_col0\" class=\"data row1 col0\" >Target</td>\n",
       "      <td id=\"T_da273_row1_col1\" class=\"data row1 col1\" >charges</td>\n",
       "    </tr>\n",
       "    <tr>\n",
       "      <th id=\"T_da273_level0_row2\" class=\"row_heading level0 row2\" >2</th>\n",
       "      <td id=\"T_da273_row2_col0\" class=\"data row2 col0\" >Target type</td>\n",
       "      <td id=\"T_da273_row2_col1\" class=\"data row2 col1\" >Regression</td>\n",
       "    </tr>\n",
       "    <tr>\n",
       "      <th id=\"T_da273_level0_row3\" class=\"row_heading level0 row3\" >3</th>\n",
       "      <td id=\"T_da273_row3_col0\" class=\"data row3 col0\" >Data shape</td>\n",
       "      <td id=\"T_da273_row3_col1\" class=\"data row3 col1\" >(1338, 10)</td>\n",
       "    </tr>\n",
       "    <tr>\n",
       "      <th id=\"T_da273_level0_row4\" class=\"row_heading level0 row4\" >4</th>\n",
       "      <td id=\"T_da273_row4_col0\" class=\"data row4 col0\" >Train data shape</td>\n",
       "      <td id=\"T_da273_row4_col1\" class=\"data row4 col1\" >(936, 10)</td>\n",
       "    </tr>\n",
       "    <tr>\n",
       "      <th id=\"T_da273_level0_row5\" class=\"row_heading level0 row5\" >5</th>\n",
       "      <td id=\"T_da273_row5_col0\" class=\"data row5 col0\" >Test data shape</td>\n",
       "      <td id=\"T_da273_row5_col1\" class=\"data row5 col1\" >(402, 10)</td>\n",
       "    </tr>\n",
       "    <tr>\n",
       "      <th id=\"T_da273_level0_row6\" class=\"row_heading level0 row6\" >6</th>\n",
       "      <td id=\"T_da273_row6_col0\" class=\"data row6 col0\" >Ordinal features</td>\n",
       "      <td id=\"T_da273_row6_col1\" class=\"data row6 col1\" >2</td>\n",
       "    </tr>\n",
       "    <tr>\n",
       "      <th id=\"T_da273_level0_row7\" class=\"row_heading level0 row7\" >7</th>\n",
       "      <td id=\"T_da273_row7_col0\" class=\"data row7 col0\" >Numeric features</td>\n",
       "      <td id=\"T_da273_row7_col1\" class=\"data row7 col1\" >3</td>\n",
       "    </tr>\n",
       "    <tr>\n",
       "      <th id=\"T_da273_level0_row8\" class=\"row_heading level0 row8\" >8</th>\n",
       "      <td id=\"T_da273_row8_col0\" class=\"data row8 col0\" >Categorical features</td>\n",
       "      <td id=\"T_da273_row8_col1\" class=\"data row8 col1\" >3</td>\n",
       "    </tr>\n",
       "    <tr>\n",
       "      <th id=\"T_da273_level0_row9\" class=\"row_heading level0 row9\" >9</th>\n",
       "      <td id=\"T_da273_row9_col0\" class=\"data row9 col0\" >Preprocess</td>\n",
       "      <td id=\"T_da273_row9_col1\" class=\"data row9 col1\" >True</td>\n",
       "    </tr>\n",
       "    <tr>\n",
       "      <th id=\"T_da273_level0_row10\" class=\"row_heading level0 row10\" >10</th>\n",
       "      <td id=\"T_da273_row10_col0\" class=\"data row10 col0\" >Imputation type</td>\n",
       "      <td id=\"T_da273_row10_col1\" class=\"data row10 col1\" >simple</td>\n",
       "    </tr>\n",
       "    <tr>\n",
       "      <th id=\"T_da273_level0_row11\" class=\"row_heading level0 row11\" >11</th>\n",
       "      <td id=\"T_da273_row11_col0\" class=\"data row11 col0\" >Numeric imputation</td>\n",
       "      <td id=\"T_da273_row11_col1\" class=\"data row11 col1\" >mean</td>\n",
       "    </tr>\n",
       "    <tr>\n",
       "      <th id=\"T_da273_level0_row12\" class=\"row_heading level0 row12\" >12</th>\n",
       "      <td id=\"T_da273_row12_col0\" class=\"data row12 col0\" >Categorical imputation</td>\n",
       "      <td id=\"T_da273_row12_col1\" class=\"data row12 col1\" >constant</td>\n",
       "    </tr>\n",
       "    <tr>\n",
       "      <th id=\"T_da273_level0_row13\" class=\"row_heading level0 row13\" >13</th>\n",
       "      <td id=\"T_da273_row13_col0\" class=\"data row13 col0\" >Maximum one-hot encoding</td>\n",
       "      <td id=\"T_da273_row13_col1\" class=\"data row13 col1\" >5</td>\n",
       "    </tr>\n",
       "    <tr>\n",
       "      <th id=\"T_da273_level0_row14\" class=\"row_heading level0 row14\" >14</th>\n",
       "      <td id=\"T_da273_row14_col0\" class=\"data row14 col0\" >Encoding method</td>\n",
       "      <td id=\"T_da273_row14_col1\" class=\"data row14 col1\" >None</td>\n",
       "    </tr>\n",
       "    <tr>\n",
       "      <th id=\"T_da273_level0_row15\" class=\"row_heading level0 row15\" >15</th>\n",
       "      <td id=\"T_da273_row15_col0\" class=\"data row15 col0\" >Low variance threshold</td>\n",
       "      <td id=\"T_da273_row15_col1\" class=\"data row15 col1\" >0</td>\n",
       "    </tr>\n",
       "    <tr>\n",
       "      <th id=\"T_da273_level0_row16\" class=\"row_heading level0 row16\" >16</th>\n",
       "      <td id=\"T_da273_row16_col0\" class=\"data row16 col0\" >Fold Generator</td>\n",
       "      <td id=\"T_da273_row16_col1\" class=\"data row16 col1\" >KFold</td>\n",
       "    </tr>\n",
       "    <tr>\n",
       "      <th id=\"T_da273_level0_row17\" class=\"row_heading level0 row17\" >17</th>\n",
       "      <td id=\"T_da273_row17_col0\" class=\"data row17 col0\" >Fold Number</td>\n",
       "      <td id=\"T_da273_row17_col1\" class=\"data row17 col1\" >10</td>\n",
       "    </tr>\n",
       "    <tr>\n",
       "      <th id=\"T_da273_level0_row18\" class=\"row_heading level0 row18\" >18</th>\n",
       "      <td id=\"T_da273_row18_col0\" class=\"data row18 col0\" >CPU Jobs</td>\n",
       "      <td id=\"T_da273_row18_col1\" class=\"data row18 col1\" >-1</td>\n",
       "    </tr>\n",
       "    <tr>\n",
       "      <th id=\"T_da273_level0_row19\" class=\"row_heading level0 row19\" >19</th>\n",
       "      <td id=\"T_da273_row19_col0\" class=\"data row19 col0\" >Use GPU</td>\n",
       "      <td id=\"T_da273_row19_col1\" class=\"data row19 col1\" >False</td>\n",
       "    </tr>\n",
       "    <tr>\n",
       "      <th id=\"T_da273_level0_row20\" class=\"row_heading level0 row20\" >20</th>\n",
       "      <td id=\"T_da273_row20_col0\" class=\"data row20 col0\" >Log Experiment</td>\n",
       "      <td id=\"T_da273_row20_col1\" class=\"data row20 col1\" >False</td>\n",
       "    </tr>\n",
       "    <tr>\n",
       "      <th id=\"T_da273_level0_row21\" class=\"row_heading level0 row21\" >21</th>\n",
       "      <td id=\"T_da273_row21_col0\" class=\"data row21 col0\" >Experiment Name</td>\n",
       "      <td id=\"T_da273_row21_col1\" class=\"data row21 col1\" >reg-default-name</td>\n",
       "    </tr>\n",
       "    <tr>\n",
       "      <th id=\"T_da273_level0_row22\" class=\"row_heading level0 row22\" >22</th>\n",
       "      <td id=\"T_da273_row22_col0\" class=\"data row22 col0\" >USI</td>\n",
       "      <td id=\"T_da273_row22_col1\" class=\"data row22 col1\" >3b8c</td>\n",
       "    </tr>\n",
       "  </tbody>\n",
       "</table>\n"
      ],
      "text/plain": [
       "<pandas.io.formats.style.Styler at 0x1b0dc4a2fd0>"
      ]
     },
     "metadata": {},
     "output_type": "display_data"
    }
   ],
   "source": [
    "#Model Training and Validation\n",
    "\n",
    "from pycaret.regression import *\n",
    "\n",
    "r2 = setup(data, target = 'charges', session_id = 123)\n",
    "            "
   ]
  },
  {
   "cell_type": "code",
   "execution_count": 26,
   "metadata": {},
   "outputs": [
    {
     "data": {
      "text/plain": [
       "<pycaret.regression.oop.RegressionExperiment at 0x1b0d47e8d00>"
      ]
     },
     "execution_count": 26,
     "metadata": {},
     "output_type": "execute_result"
    }
   ],
   "source": [
    "r2"
   ]
  },
  {
   "cell_type": "code",
   "execution_count": 27,
   "metadata": {},
   "outputs": [
    {
     "data": {
      "text/plain": [
       "Index(['age', 'sex', 'bmi', 'children', 'smoker', 'region', 'charges'], dtype='object')"
      ]
     },
     "execution_count": 27,
     "metadata": {},
     "output_type": "execute_result"
    }
   ],
   "source": [
    "data.columns"
   ]
  },
  {
   "cell_type": "code",
   "execution_count": 28,
   "metadata": {},
   "outputs": [
    {
     "data": {
      "text/html": [],
      "text/plain": [
       "<IPython.core.display.HTML object>"
      ]
     },
     "metadata": {},
     "output_type": "display_data"
    },
    {
     "data": {
      "text/html": [
       "<style type=\"text/css\">\n",
       "#T_b07cf_row10_col0, #T_b07cf_row10_col1, #T_b07cf_row10_col2, #T_b07cf_row10_col3, #T_b07cf_row10_col4, #T_b07cf_row10_col5 {\n",
       "  background: yellow;\n",
       "}\n",
       "</style>\n",
       "<table id=\"T_b07cf\">\n",
       "  <thead>\n",
       "    <tr>\n",
       "      <th class=\"blank level0\" >&nbsp;</th>\n",
       "      <th id=\"T_b07cf_level0_col0\" class=\"col_heading level0 col0\" >MAE</th>\n",
       "      <th id=\"T_b07cf_level0_col1\" class=\"col_heading level0 col1\" >MSE</th>\n",
       "      <th id=\"T_b07cf_level0_col2\" class=\"col_heading level0 col2\" >RMSE</th>\n",
       "      <th id=\"T_b07cf_level0_col3\" class=\"col_heading level0 col3\" >R2</th>\n",
       "      <th id=\"T_b07cf_level0_col4\" class=\"col_heading level0 col4\" >RMSLE</th>\n",
       "      <th id=\"T_b07cf_level0_col5\" class=\"col_heading level0 col5\" >MAPE</th>\n",
       "    </tr>\n",
       "    <tr>\n",
       "      <th class=\"index_name level0\" >Fold</th>\n",
       "      <th class=\"blank col0\" >&nbsp;</th>\n",
       "      <th class=\"blank col1\" >&nbsp;</th>\n",
       "      <th class=\"blank col2\" >&nbsp;</th>\n",
       "      <th class=\"blank col3\" >&nbsp;</th>\n",
       "      <th class=\"blank col4\" >&nbsp;</th>\n",
       "      <th class=\"blank col5\" >&nbsp;</th>\n",
       "    </tr>\n",
       "  </thead>\n",
       "  <tbody>\n",
       "    <tr>\n",
       "      <th id=\"T_b07cf_level0_row0\" class=\"row_heading level0 row0\" >0</th>\n",
       "      <td id=\"T_b07cf_row0_col0\" class=\"data row0 col0\" >4222.9616</td>\n",
       "      <td id=\"T_b07cf_row0_col1\" class=\"data row0 col1\" >33775764.3432</td>\n",
       "      <td id=\"T_b07cf_row0_col2\" class=\"data row0 col2\" >5811.6920</td>\n",
       "      <td id=\"T_b07cf_row0_col3\" class=\"data row0 col3\" >0.7983</td>\n",
       "      <td id=\"T_b07cf_row0_col4\" class=\"data row0 col4\" >0.4879</td>\n",
       "      <td id=\"T_b07cf_row0_col5\" class=\"data row0 col5\" >0.4328</td>\n",
       "    </tr>\n",
       "    <tr>\n",
       "      <th id=\"T_b07cf_level0_row1\" class=\"row_heading level0 row1\" >1</th>\n",
       "      <td id=\"T_b07cf_row1_col0\" class=\"data row1 col0\" >4522.5819</td>\n",
       "      <td id=\"T_b07cf_row1_col1\" class=\"data row1 col1\" >43620030.5192</td>\n",
       "      <td id=\"T_b07cf_row1_col2\" class=\"data row1 col2\" >6604.5462</td>\n",
       "      <td id=\"T_b07cf_row1_col3\" class=\"data row1 col3\" >0.7464</td>\n",
       "      <td id=\"T_b07cf_row1_col4\" class=\"data row1 col4\" >0.5473</td>\n",
       "      <td id=\"T_b07cf_row1_col5\" class=\"data row1 col5\" >0.4216</td>\n",
       "    </tr>\n",
       "    <tr>\n",
       "      <th id=\"T_b07cf_level0_row2\" class=\"row_heading level0 row2\" >2</th>\n",
       "      <td id=\"T_b07cf_row2_col0\" class=\"data row2 col0\" >3853.0378</td>\n",
       "      <td id=\"T_b07cf_row2_col1\" class=\"data row2 col1\" >31981107.9602</td>\n",
       "      <td id=\"T_b07cf_row2_col2\" class=\"data row2 col2\" >5655.1842</td>\n",
       "      <td id=\"T_b07cf_row2_col3\" class=\"data row2 col3\" >0.5951</td>\n",
       "      <td id=\"T_b07cf_row2_col4\" class=\"data row2 col4\" >0.7108</td>\n",
       "      <td id=\"T_b07cf_row2_col5\" class=\"data row2 col5\" >0.4398</td>\n",
       "    </tr>\n",
       "    <tr>\n",
       "      <th id=\"T_b07cf_level0_row3\" class=\"row_heading level0 row3\" >3</th>\n",
       "      <td id=\"T_b07cf_row3_col0\" class=\"data row3 col0\" >3707.7705</td>\n",
       "      <td id=\"T_b07cf_row3_col1\" class=\"data row3 col1\" >26513348.5760</td>\n",
       "      <td id=\"T_b07cf_row3_col2\" class=\"data row3 col2\" >5149.1114</td>\n",
       "      <td id=\"T_b07cf_row3_col3\" class=\"data row3 col3\" >0.7786</td>\n",
       "      <td id=\"T_b07cf_row3_col4\" class=\"data row3 col4\" >0.4891</td>\n",
       "      <td id=\"T_b07cf_row3_col5\" class=\"data row3 col5\" >0.5164</td>\n",
       "    </tr>\n",
       "    <tr>\n",
       "      <th id=\"T_b07cf_level0_row4\" class=\"row_heading level0 row4\" >4</th>\n",
       "      <td id=\"T_b07cf_row4_col0\" class=\"data row4 col0\" >4484.2122</td>\n",
       "      <td id=\"T_b07cf_row4_col1\" class=\"data row4 col1\" >43828444.1000</td>\n",
       "      <td id=\"T_b07cf_row4_col2\" class=\"data row4 col2\" >6620.3054</td>\n",
       "      <td id=\"T_b07cf_row4_col3\" class=\"data row4 col3\" >0.6740</td>\n",
       "      <td id=\"T_b07cf_row4_col4\" class=\"data row4 col4\" >0.5761</td>\n",
       "      <td id=\"T_b07cf_row4_col5\" class=\"data row4 col5\" >0.3847</td>\n",
       "    </tr>\n",
       "    <tr>\n",
       "      <th id=\"T_b07cf_level0_row5\" class=\"row_heading level0 row5\" >5</th>\n",
       "      <td id=\"T_b07cf_row5_col0\" class=\"data row5 col0\" >4113.6222</td>\n",
       "      <td id=\"T_b07cf_row5_col1\" class=\"data row5 col1\" >35882341.9810</td>\n",
       "      <td id=\"T_b07cf_row5_col2\" class=\"data row5 col2\" >5990.1871</td>\n",
       "      <td id=\"T_b07cf_row5_col3\" class=\"data row5 col3\" >0.7692</td>\n",
       "      <td id=\"T_b07cf_row5_col4\" class=\"data row5 col4\" >0.5464</td>\n",
       "      <td id=\"T_b07cf_row5_col5\" class=\"data row5 col5\" >0.4130</td>\n",
       "    </tr>\n",
       "    <tr>\n",
       "      <th id=\"T_b07cf_level0_row6\" class=\"row_heading level0 row6\" >6</th>\n",
       "      <td id=\"T_b07cf_row6_col0\" class=\"data row6 col0\" >4098.0868</td>\n",
       "      <td id=\"T_b07cf_row6_col1\" class=\"data row6 col1\" >39631320.0598</td>\n",
       "      <td id=\"T_b07cf_row6_col2\" class=\"data row6 col2\" >6295.3411</td>\n",
       "      <td id=\"T_b07cf_row6_col3\" class=\"data row6 col3\" >0.7303</td>\n",
       "      <td id=\"T_b07cf_row6_col4\" class=\"data row6 col4\" >0.5745</td>\n",
       "      <td id=\"T_b07cf_row6_col5\" class=\"data row6 col5\" >0.4266</td>\n",
       "    </tr>\n",
       "    <tr>\n",
       "      <th id=\"T_b07cf_level0_row7\" class=\"row_heading level0 row7\" >7</th>\n",
       "      <td id=\"T_b07cf_row7_col0\" class=\"data row7 col0\" >4833.7747</td>\n",
       "      <td id=\"T_b07cf_row7_col1\" class=\"data row7 col1\" >45739275.7172</td>\n",
       "      <td id=\"T_b07cf_row7_col2\" class=\"data row7 col2\" >6763.0818</td>\n",
       "      <td id=\"T_b07cf_row7_col3\" class=\"data row7 col3\" >0.7485</td>\n",
       "      <td id=\"T_b07cf_row7_col4\" class=\"data row7 col4\" >0.5887</td>\n",
       "      <td id=\"T_b07cf_row7_col5\" class=\"data row7 col5\" >0.3967</td>\n",
       "    </tr>\n",
       "    <tr>\n",
       "      <th id=\"T_b07cf_level0_row8\" class=\"row_heading level0 row8\" >8</th>\n",
       "      <td id=\"T_b07cf_row8_col0\" class=\"data row8 col0\" >4621.0616</td>\n",
       "      <td id=\"T_b07cf_row8_col1\" class=\"data row8 col1\" >40681916.3737</td>\n",
       "      <td id=\"T_b07cf_row8_col2\" class=\"data row8 col2\" >6378.2377</td>\n",
       "      <td id=\"T_b07cf_row8_col3\" class=\"data row8 col3\" >0.7372</td>\n",
       "      <td id=\"T_b07cf_row8_col4\" class=\"data row8 col4\" >0.7032</td>\n",
       "      <td id=\"T_b07cf_row8_col5\" class=\"data row8 col5\" >0.5225</td>\n",
       "    </tr>\n",
       "    <tr>\n",
       "      <th id=\"T_b07cf_level0_row9\" class=\"row_heading level0 row9\" >9</th>\n",
       "      <td id=\"T_b07cf_row9_col0\" class=\"data row9 col0\" >4578.4499</td>\n",
       "      <td id=\"T_b07cf_row9_col1\" class=\"data row9 col1\" >42227034.9476</td>\n",
       "      <td id=\"T_b07cf_row9_col2\" class=\"data row9 col2\" >6498.2332</td>\n",
       "      <td id=\"T_b07cf_row9_col3\" class=\"data row9 col3\" >0.7280</td>\n",
       "      <td id=\"T_b07cf_row9_col4\" class=\"data row9 col4\" >0.7252</td>\n",
       "      <td id=\"T_b07cf_row9_col5\" class=\"data row9 col5\" >0.4793</td>\n",
       "    </tr>\n",
       "    <tr>\n",
       "      <th id=\"T_b07cf_level0_row10\" class=\"row_heading level0 row10\" >Mean</th>\n",
       "      <td id=\"T_b07cf_row10_col0\" class=\"data row10 col0\" >4303.5559</td>\n",
       "      <td id=\"T_b07cf_row10_col1\" class=\"data row10 col1\" >38388058.4578</td>\n",
       "      <td id=\"T_b07cf_row10_col2\" class=\"data row10 col2\" >6176.5920</td>\n",
       "      <td id=\"T_b07cf_row10_col3\" class=\"data row10 col3\" >0.7306</td>\n",
       "      <td id=\"T_b07cf_row10_col4\" class=\"data row10 col4\" >0.5949</td>\n",
       "      <td id=\"T_b07cf_row10_col5\" class=\"data row10 col5\" >0.4433</td>\n",
       "    </tr>\n",
       "    <tr>\n",
       "      <th id=\"T_b07cf_level0_row11\" class=\"row_heading level0 row11\" >Std</th>\n",
       "      <td id=\"T_b07cf_row11_col0\" class=\"data row11 col0\" >343.6324</td>\n",
       "      <td id=\"T_b07cf_row11_col1\" class=\"data row11 col1\" >5849500.5628</td>\n",
       "      <td id=\"T_b07cf_row11_col2\" class=\"data row11 col2\" >487.6160</td>\n",
       "      <td id=\"T_b07cf_row11_col3\" class=\"data row11 col3\" >0.0553</td>\n",
       "      <td id=\"T_b07cf_row11_col4\" class=\"data row11 col4\" >0.0838</td>\n",
       "      <td id=\"T_b07cf_row11_col5\" class=\"data row11 col5\" >0.0451</td>\n",
       "    </tr>\n",
       "  </tbody>\n",
       "</table>\n"
      ],
      "text/plain": [
       "<pandas.io.formats.style.Styler at 0x1b0dc2edb80>"
      ]
     },
     "metadata": {},
     "output_type": "display_data"
    },
    {
     "data": {
      "application/vnd.jupyter.widget-view+json": {
       "model_id": "",
       "version_major": 2,
       "version_minor": 0
      },
      "text/plain": [
       "Processing:   0%|          | 0/4 [00:00<?, ?it/s]"
      ]
     },
     "metadata": {},
     "output_type": "display_data"
    }
   ],
   "source": [
    "lr = create_model ('lr')"
   ]
  },
  {
   "cell_type": "code",
   "execution_count": 29,
   "metadata": {},
   "outputs": [
    {
     "data": {
      "text/html": [],
      "text/plain": [
       "<IPython.core.display.HTML object>"
      ]
     },
     "metadata": {},
     "output_type": "display_data"
    },
    {
     "data": {
      "text/html": [
       "<style type=\"text/css\">\n",
       "#T_3ede1 th {\n",
       "  text-align: left;\n",
       "}\n",
       "#T_3ede1_row0_col0, #T_3ede1_row0_col6, #T_3ede1_row1_col0, #T_3ede1_row1_col1, #T_3ede1_row1_col2, #T_3ede1_row1_col3, #T_3ede1_row1_col4, #T_3ede1_row1_col5, #T_3ede1_row1_col6, #T_3ede1_row2_col0, #T_3ede1_row2_col1, #T_3ede1_row2_col2, #T_3ede1_row2_col3, #T_3ede1_row2_col4, #T_3ede1_row2_col5, #T_3ede1_row2_col6, #T_3ede1_row3_col0, #T_3ede1_row3_col1, #T_3ede1_row3_col2, #T_3ede1_row3_col3, #T_3ede1_row3_col4, #T_3ede1_row3_col5, #T_3ede1_row3_col6, #T_3ede1_row4_col0, #T_3ede1_row4_col1, #T_3ede1_row4_col2, #T_3ede1_row4_col3, #T_3ede1_row4_col4, #T_3ede1_row4_col5, #T_3ede1_row4_col6, #T_3ede1_row5_col0, #T_3ede1_row5_col1, #T_3ede1_row5_col2, #T_3ede1_row5_col3, #T_3ede1_row5_col4, #T_3ede1_row5_col5, #T_3ede1_row5_col6, #T_3ede1_row6_col0, #T_3ede1_row6_col1, #T_3ede1_row6_col2, #T_3ede1_row6_col3, #T_3ede1_row6_col4, #T_3ede1_row6_col5, #T_3ede1_row6_col6, #T_3ede1_row7_col0, #T_3ede1_row7_col1, #T_3ede1_row7_col2, #T_3ede1_row7_col3, #T_3ede1_row7_col4, #T_3ede1_row7_col5, #T_3ede1_row7_col6, #T_3ede1_row8_col0, #T_3ede1_row8_col1, #T_3ede1_row8_col2, #T_3ede1_row8_col3, #T_3ede1_row8_col4, #T_3ede1_row8_col5, #T_3ede1_row8_col6, #T_3ede1_row9_col0, #T_3ede1_row9_col1, #T_3ede1_row9_col2, #T_3ede1_row9_col3, #T_3ede1_row9_col4, #T_3ede1_row9_col5, #T_3ede1_row9_col6, #T_3ede1_row10_col0, #T_3ede1_row10_col1, #T_3ede1_row10_col2, #T_3ede1_row10_col3, #T_3ede1_row10_col4, #T_3ede1_row10_col5, #T_3ede1_row10_col6, #T_3ede1_row11_col0, #T_3ede1_row11_col1, #T_3ede1_row11_col2, #T_3ede1_row11_col3, #T_3ede1_row11_col4, #T_3ede1_row11_col5, #T_3ede1_row11_col6, #T_3ede1_row12_col0, #T_3ede1_row12_col1, #T_3ede1_row12_col2, #T_3ede1_row12_col3, #T_3ede1_row12_col4, #T_3ede1_row12_col5, #T_3ede1_row12_col6, #T_3ede1_row13_col0, #T_3ede1_row13_col1, #T_3ede1_row13_col2, #T_3ede1_row13_col3, #T_3ede1_row13_col4, #T_3ede1_row13_col5, #T_3ede1_row14_col0, #T_3ede1_row14_col1, #T_3ede1_row14_col2, #T_3ede1_row14_col3, #T_3ede1_row14_col4, #T_3ede1_row14_col5, #T_3ede1_row14_col6, #T_3ede1_row15_col0, #T_3ede1_row15_col1, #T_3ede1_row15_col2, #T_3ede1_row15_col3, #T_3ede1_row15_col4, #T_3ede1_row15_col5, #T_3ede1_row15_col6, #T_3ede1_row16_col0, #T_3ede1_row16_col1, #T_3ede1_row16_col2, #T_3ede1_row16_col3, #T_3ede1_row16_col4, #T_3ede1_row16_col5, #T_3ede1_row16_col6, #T_3ede1_row17_col0, #T_3ede1_row17_col1, #T_3ede1_row17_col2, #T_3ede1_row17_col3, #T_3ede1_row17_col4, #T_3ede1_row17_col5, #T_3ede1_row17_col6, #T_3ede1_row18_col0, #T_3ede1_row18_col1, #T_3ede1_row18_col2, #T_3ede1_row18_col3, #T_3ede1_row18_col4, #T_3ede1_row18_col5, #T_3ede1_row18_col6, #T_3ede1_row19_col0, #T_3ede1_row19_col1, #T_3ede1_row19_col2, #T_3ede1_row19_col3, #T_3ede1_row19_col4, #T_3ede1_row19_col5, #T_3ede1_row19_col6 {\n",
       "  text-align: left;\n",
       "}\n",
       "#T_3ede1_row0_col1, #T_3ede1_row0_col2, #T_3ede1_row0_col3, #T_3ede1_row0_col4, #T_3ede1_row0_col5, #T_3ede1_row13_col6 {\n",
       "  text-align: left;\n",
       "  background-color: yellow;\n",
       "}\n",
       "#T_3ede1_row0_col7, #T_3ede1_row1_col7, #T_3ede1_row2_col7, #T_3ede1_row3_col7, #T_3ede1_row4_col7, #T_3ede1_row5_col7, #T_3ede1_row6_col7, #T_3ede1_row7_col7, #T_3ede1_row8_col7, #T_3ede1_row10_col7, #T_3ede1_row11_col7, #T_3ede1_row12_col7, #T_3ede1_row13_col7, #T_3ede1_row14_col7, #T_3ede1_row15_col7, #T_3ede1_row16_col7, #T_3ede1_row17_col7, #T_3ede1_row18_col7, #T_3ede1_row19_col7 {\n",
       "  text-align: left;\n",
       "  background-color: lightgrey;\n",
       "}\n",
       "#T_3ede1_row9_col7 {\n",
       "  text-align: left;\n",
       "  background-color: yellow;\n",
       "  background-color: lightgrey;\n",
       "}\n",
       "</style>\n",
       "<table id=\"T_3ede1\">\n",
       "  <thead>\n",
       "    <tr>\n",
       "      <th class=\"blank level0\" >&nbsp;</th>\n",
       "      <th id=\"T_3ede1_level0_col0\" class=\"col_heading level0 col0\" >Model</th>\n",
       "      <th id=\"T_3ede1_level0_col1\" class=\"col_heading level0 col1\" >MAE</th>\n",
       "      <th id=\"T_3ede1_level0_col2\" class=\"col_heading level0 col2\" >MSE</th>\n",
       "      <th id=\"T_3ede1_level0_col3\" class=\"col_heading level0 col3\" >RMSE</th>\n",
       "      <th id=\"T_3ede1_level0_col4\" class=\"col_heading level0 col4\" >R2</th>\n",
       "      <th id=\"T_3ede1_level0_col5\" class=\"col_heading level0 col5\" >RMSLE</th>\n",
       "      <th id=\"T_3ede1_level0_col6\" class=\"col_heading level0 col6\" >MAPE</th>\n",
       "      <th id=\"T_3ede1_level0_col7\" class=\"col_heading level0 col7\" >TT (Sec)</th>\n",
       "    </tr>\n",
       "  </thead>\n",
       "  <tbody>\n",
       "    <tr>\n",
       "      <th id=\"T_3ede1_level0_row0\" class=\"row_heading level0 row0\" >gbr</th>\n",
       "      <td id=\"T_3ede1_row0_col0\" class=\"data row0 col0\" >Gradient Boosting Regressor</td>\n",
       "      <td id=\"T_3ede1_row0_col1\" class=\"data row0 col1\" >2701.9919</td>\n",
       "      <td id=\"T_3ede1_row0_col2\" class=\"data row0 col2\" >23548657.1177</td>\n",
       "      <td id=\"T_3ede1_row0_col3\" class=\"data row0 col3\" >4832.9329</td>\n",
       "      <td id=\"T_3ede1_row0_col4\" class=\"data row0 col4\" >0.8320</td>\n",
       "      <td id=\"T_3ede1_row0_col5\" class=\"data row0 col5\" >0.4447</td>\n",
       "      <td id=\"T_3ede1_row0_col6\" class=\"data row0 col6\" >0.3137</td>\n",
       "      <td id=\"T_3ede1_row0_col7\" class=\"data row0 col7\" >0.0600</td>\n",
       "    </tr>\n",
       "    <tr>\n",
       "      <th id=\"T_3ede1_level0_row1\" class=\"row_heading level0 row1\" >rf</th>\n",
       "      <td id=\"T_3ede1_row1_col0\" class=\"data row1 col0\" >Random Forest Regressor</td>\n",
       "      <td id=\"T_3ede1_row1_col1\" class=\"data row1 col1\" >2771.4583</td>\n",
       "      <td id=\"T_3ede1_row1_col2\" class=\"data row1 col2\" >25416502.3827</td>\n",
       "      <td id=\"T_3ede1_row1_col3\" class=\"data row1 col3\" >5028.6343</td>\n",
       "      <td id=\"T_3ede1_row1_col4\" class=\"data row1 col4\" >0.8172</td>\n",
       "      <td id=\"T_3ede1_row1_col5\" class=\"data row1 col5\" >0.4690</td>\n",
       "      <td id=\"T_3ede1_row1_col6\" class=\"data row1 col6\" >0.3303</td>\n",
       "      <td id=\"T_3ede1_row1_col7\" class=\"data row1 col7\" >0.1320</td>\n",
       "    </tr>\n",
       "    <tr>\n",
       "      <th id=\"T_3ede1_level0_row2\" class=\"row_heading level0 row2\" >catboost</th>\n",
       "      <td id=\"T_3ede1_row2_col0\" class=\"data row2 col0\" >CatBoost Regressor</td>\n",
       "      <td id=\"T_3ede1_row2_col1\" class=\"data row2 col1\" >2899.3783</td>\n",
       "      <td id=\"T_3ede1_row2_col2\" class=\"data row2 col2\" >25762701.9552</td>\n",
       "      <td id=\"T_3ede1_row2_col3\" class=\"data row2 col3\" >5057.5721</td>\n",
       "      <td id=\"T_3ede1_row2_col4\" class=\"data row2 col4\" >0.8163</td>\n",
       "      <td id=\"T_3ede1_row2_col5\" class=\"data row2 col5\" >0.4815</td>\n",
       "      <td id=\"T_3ede1_row2_col6\" class=\"data row2 col6\" >0.3522</td>\n",
       "      <td id=\"T_3ede1_row2_col7\" class=\"data row2 col7\" >0.7510</td>\n",
       "    </tr>\n",
       "    <tr>\n",
       "      <th id=\"T_3ede1_level0_row3\" class=\"row_heading level0 row3\" >lightgbm</th>\n",
       "      <td id=\"T_3ede1_row3_col0\" class=\"data row3 col0\" >Light Gradient Boosting Machine</td>\n",
       "      <td id=\"T_3ede1_row3_col1\" class=\"data row3 col1\" >2992.1828</td>\n",
       "      <td id=\"T_3ede1_row3_col2\" class=\"data row3 col2\" >25521038.3331</td>\n",
       "      <td id=\"T_3ede1_row3_col3\" class=\"data row3 col3\" >5042.0978</td>\n",
       "      <td id=\"T_3ede1_row3_col4\" class=\"data row3 col4\" >0.8149</td>\n",
       "      <td id=\"T_3ede1_row3_col5\" class=\"data row3 col5\" >0.5378</td>\n",
       "      <td id=\"T_3ede1_row3_col6\" class=\"data row3 col6\" >0.3751</td>\n",
       "      <td id=\"T_3ede1_row3_col7\" class=\"data row3 col7\" >0.2630</td>\n",
       "    </tr>\n",
       "    <tr>\n",
       "      <th id=\"T_3ede1_level0_row4\" class=\"row_heading level0 row4\" >et</th>\n",
       "      <td id=\"T_3ede1_row4_col0\" class=\"data row4 col0\" >Extra Trees Regressor</td>\n",
       "      <td id=\"T_3ede1_row4_col1\" class=\"data row4 col1\" >2833.3624</td>\n",
       "      <td id=\"T_3ede1_row4_col2\" class=\"data row4 col2\" >28427844.2412</td>\n",
       "      <td id=\"T_3ede1_row4_col3\" class=\"data row4 col3\" >5305.6516</td>\n",
       "      <td id=\"T_3ede1_row4_col4\" class=\"data row4 col4\" >0.7991</td>\n",
       "      <td id=\"T_3ede1_row4_col5\" class=\"data row4 col5\" >0.4877</td>\n",
       "      <td id=\"T_3ede1_row4_col6\" class=\"data row4 col6\" >0.3363</td>\n",
       "      <td id=\"T_3ede1_row4_col7\" class=\"data row4 col7\" >0.1160</td>\n",
       "    </tr>\n",
       "    <tr>\n",
       "      <th id=\"T_3ede1_level0_row5\" class=\"row_heading level0 row5\" >ada</th>\n",
       "      <td id=\"T_3ede1_row5_col0\" class=\"data row5 col0\" >AdaBoost Regressor</td>\n",
       "      <td id=\"T_3ede1_row5_col1\" class=\"data row5 col1\" >4316.0568</td>\n",
       "      <td id=\"T_3ede1_row5_col2\" class=\"data row5 col2\" >29220505.6498</td>\n",
       "      <td id=\"T_3ede1_row5_col3\" class=\"data row5 col3\" >5398.4561</td>\n",
       "      <td id=\"T_3ede1_row5_col4\" class=\"data row5 col4\" >0.7903</td>\n",
       "      <td id=\"T_3ede1_row5_col5\" class=\"data row5 col5\" >0.6368</td>\n",
       "      <td id=\"T_3ede1_row5_col6\" class=\"data row5 col6\" >0.7394</td>\n",
       "      <td id=\"T_3ede1_row5_col7\" class=\"data row5 col7\" >0.0360</td>\n",
       "    </tr>\n",
       "    <tr>\n",
       "      <th id=\"T_3ede1_level0_row6\" class=\"row_heading level0 row6\" >xgboost</th>\n",
       "      <td id=\"T_3ede1_row6_col0\" class=\"data row6 col0\" >Extreme Gradient Boosting</td>\n",
       "      <td id=\"T_3ede1_row6_col1\" class=\"data row6 col1\" >3443.6091</td>\n",
       "      <td id=\"T_3ede1_row6_col2\" class=\"data row6 col2\" >32824626.4000</td>\n",
       "      <td id=\"T_3ede1_row6_col3\" class=\"data row6 col3\" >5711.2140</td>\n",
       "      <td id=\"T_3ede1_row6_col4\" class=\"data row6 col4\" >0.7626</td>\n",
       "      <td id=\"T_3ede1_row6_col5\" class=\"data row6 col5\" >0.6224</td>\n",
       "      <td id=\"T_3ede1_row6_col6\" class=\"data row6 col6\" >0.4469</td>\n",
       "      <td id=\"T_3ede1_row6_col7\" class=\"data row6 col7\" >0.0950</td>\n",
       "    </tr>\n",
       "    <tr>\n",
       "      <th id=\"T_3ede1_level0_row7\" class=\"row_heading level0 row7\" >llar</th>\n",
       "      <td id=\"T_3ede1_row7_col0\" class=\"data row7 col0\" >Lasso Least Angle Regression</td>\n",
       "      <td id=\"T_3ede1_row7_col1\" class=\"data row7 col1\" >4298.6038</td>\n",
       "      <td id=\"T_3ede1_row7_col2\" class=\"data row7 col2\" >38369142.0849</td>\n",
       "      <td id=\"T_3ede1_row7_col3\" class=\"data row7 col3\" >6174.9424</td>\n",
       "      <td id=\"T_3ede1_row7_col4\" class=\"data row7 col4\" >0.7309</td>\n",
       "      <td id=\"T_3ede1_row7_col5\" class=\"data row7 col5\" >0.5786</td>\n",
       "      <td id=\"T_3ede1_row7_col6\" class=\"data row7 col6\" >0.4424</td>\n",
       "      <td id=\"T_3ede1_row7_col7\" class=\"data row7 col7\" >0.0360</td>\n",
       "    </tr>\n",
       "    <tr>\n",
       "      <th id=\"T_3ede1_level0_row8\" class=\"row_heading level0 row8\" >ridge</th>\n",
       "      <td id=\"T_3ede1_row8_col0\" class=\"data row8 col0\" >Ridge Regression</td>\n",
       "      <td id=\"T_3ede1_row8_col1\" class=\"data row8 col1\" >4317.6984</td>\n",
       "      <td id=\"T_3ede1_row8_col2\" class=\"data row8 col2\" >38396435.9578</td>\n",
       "      <td id=\"T_3ede1_row8_col3\" class=\"data row8 col3\" >6177.2329</td>\n",
       "      <td id=\"T_3ede1_row8_col4\" class=\"data row8 col4\" >0.7306</td>\n",
       "      <td id=\"T_3ede1_row8_col5\" class=\"data row8 col5\" >0.5891</td>\n",
       "      <td id=\"T_3ede1_row8_col6\" class=\"data row8 col6\" >0.4459</td>\n",
       "      <td id=\"T_3ede1_row8_col7\" class=\"data row8 col7\" >0.0320</td>\n",
       "    </tr>\n",
       "    <tr>\n",
       "      <th id=\"T_3ede1_level0_row9\" class=\"row_heading level0 row9\" >br</th>\n",
       "      <td id=\"T_3ede1_row9_col0\" class=\"data row9 col0\" >Bayesian Ridge</td>\n",
       "      <td id=\"T_3ede1_row9_col1\" class=\"data row9 col1\" >4311.2349</td>\n",
       "      <td id=\"T_3ede1_row9_col2\" class=\"data row9 col2\" >38391950.0874</td>\n",
       "      <td id=\"T_3ede1_row9_col3\" class=\"data row9 col3\" >6176.8896</td>\n",
       "      <td id=\"T_3ede1_row9_col4\" class=\"data row9 col4\" >0.7306</td>\n",
       "      <td id=\"T_3ede1_row9_col5\" class=\"data row9 col5\" >0.5910</td>\n",
       "      <td id=\"T_3ede1_row9_col6\" class=\"data row9 col6\" >0.4447</td>\n",
       "      <td id=\"T_3ede1_row9_col7\" class=\"data row9 col7\" >0.0290</td>\n",
       "    </tr>\n",
       "    <tr>\n",
       "      <th id=\"T_3ede1_level0_row10\" class=\"row_heading level0 row10\" >lar</th>\n",
       "      <td id=\"T_3ede1_row10_col0\" class=\"data row10 col0\" >Least Angle Regression</td>\n",
       "      <td id=\"T_3ede1_row10_col1\" class=\"data row10 col1\" >4303.5559</td>\n",
       "      <td id=\"T_3ede1_row10_col2\" class=\"data row10 col2\" >38388058.4578</td>\n",
       "      <td id=\"T_3ede1_row10_col3\" class=\"data row10 col3\" >6176.5920</td>\n",
       "      <td id=\"T_3ede1_row10_col4\" class=\"data row10 col4\" >0.7306</td>\n",
       "      <td id=\"T_3ede1_row10_col5\" class=\"data row10 col5\" >0.5949</td>\n",
       "      <td id=\"T_3ede1_row10_col6\" class=\"data row10 col6\" >0.4433</td>\n",
       "      <td id=\"T_3ede1_row10_col7\" class=\"data row10 col7\" >0.0330</td>\n",
       "    </tr>\n",
       "    <tr>\n",
       "      <th id=\"T_3ede1_level0_row11\" class=\"row_heading level0 row11\" >lasso</th>\n",
       "      <td id=\"T_3ede1_row11_col0\" class=\"data row11 col0\" >Lasso Regression</td>\n",
       "      <td id=\"T_3ede1_row11_col1\" class=\"data row11 col1\" >4303.7697</td>\n",
       "      <td id=\"T_3ede1_row11_col2\" class=\"data row11 col2\" >38386797.6709</td>\n",
       "      <td id=\"T_3ede1_row11_col3\" class=\"data row11 col3\" >6176.4824</td>\n",
       "      <td id=\"T_3ede1_row11_col4\" class=\"data row11 col4\" >0.7306</td>\n",
       "      <td id=\"T_3ede1_row11_col5\" class=\"data row11 col5\" >0.5952</td>\n",
       "      <td id=\"T_3ede1_row11_col6\" class=\"data row11 col6\" >0.4434</td>\n",
       "      <td id=\"T_3ede1_row11_col7\" class=\"data row11 col7\" >0.0390</td>\n",
       "    </tr>\n",
       "    <tr>\n",
       "      <th id=\"T_3ede1_level0_row12\" class=\"row_heading level0 row12\" >lr</th>\n",
       "      <td id=\"T_3ede1_row12_col0\" class=\"data row12 col0\" >Linear Regression</td>\n",
       "      <td id=\"T_3ede1_row12_col1\" class=\"data row12 col1\" >4303.5559</td>\n",
       "      <td id=\"T_3ede1_row12_col2\" class=\"data row12 col2\" >38388058.4578</td>\n",
       "      <td id=\"T_3ede1_row12_col3\" class=\"data row12 col3\" >6176.5920</td>\n",
       "      <td id=\"T_3ede1_row12_col4\" class=\"data row12 col4\" >0.7306</td>\n",
       "      <td id=\"T_3ede1_row12_col5\" class=\"data row12 col5\" >0.5949</td>\n",
       "      <td id=\"T_3ede1_row12_col6\" class=\"data row12 col6\" >0.4433</td>\n",
       "      <td id=\"T_3ede1_row12_col7\" class=\"data row12 col7\" >0.0620</td>\n",
       "    </tr>\n",
       "    <tr>\n",
       "      <th id=\"T_3ede1_level0_row13\" class=\"row_heading level0 row13\" >huber</th>\n",
       "      <td id=\"T_3ede1_row13_col0\" class=\"data row13 col0\" >Huber Regressor</td>\n",
       "      <td id=\"T_3ede1_row13_col1\" class=\"data row13 col1\" >3465.1138</td>\n",
       "      <td id=\"T_3ede1_row13_col2\" class=\"data row13 col2\" >48889516.9812</td>\n",
       "      <td id=\"T_3ede1_row13_col3\" class=\"data row13 col3\" >6969.7449</td>\n",
       "      <td id=\"T_3ede1_row13_col4\" class=\"data row13 col4\" >0.6538</td>\n",
       "      <td id=\"T_3ede1_row13_col5\" class=\"data row13 col5\" >0.4906</td>\n",
       "      <td id=\"T_3ede1_row13_col6\" class=\"data row13 col6\" >0.2210</td>\n",
       "      <td id=\"T_3ede1_row13_col7\" class=\"data row13 col7\" >0.0550</td>\n",
       "    </tr>\n",
       "    <tr>\n",
       "      <th id=\"T_3ede1_level0_row14\" class=\"row_heading level0 row14\" >dt</th>\n",
       "      <td id=\"T_3ede1_row14_col0\" class=\"data row14 col0\" >Decision Tree Regressor</td>\n",
       "      <td id=\"T_3ede1_row14_col1\" class=\"data row14 col1\" >3383.4916</td>\n",
       "      <td id=\"T_3ede1_row14_col2\" class=\"data row14 col2\" >47823199.0729</td>\n",
       "      <td id=\"T_3ede1_row14_col3\" class=\"data row14 col3\" >6895.7016</td>\n",
       "      <td id=\"T_3ede1_row14_col4\" class=\"data row14 col4\" >0.6497</td>\n",
       "      <td id=\"T_3ede1_row14_col5\" class=\"data row14 col5\" >0.5602</td>\n",
       "      <td id=\"T_3ede1_row14_col6\" class=\"data row14 col6\" >0.4013</td>\n",
       "      <td id=\"T_3ede1_row14_col7\" class=\"data row14 col7\" >0.0300</td>\n",
       "    </tr>\n",
       "    <tr>\n",
       "      <th id=\"T_3ede1_level0_row15\" class=\"row_heading level0 row15\" >omp</th>\n",
       "      <td id=\"T_3ede1_row15_col0\" class=\"data row15 col0\" >Orthogonal Matching Pursuit</td>\n",
       "      <td id=\"T_3ede1_row15_col1\" class=\"data row15 col1\" >5754.7769</td>\n",
       "      <td id=\"T_3ede1_row15_col2\" class=\"data row15 col2\" >57503207.7233</td>\n",
       "      <td id=\"T_3ede1_row15_col3\" class=\"data row15 col3\" >7566.7086</td>\n",
       "      <td id=\"T_3ede1_row15_col4\" class=\"data row15 col4\" >0.5997</td>\n",
       "      <td id=\"T_3ede1_row15_col5\" class=\"data row15 col5\" >0.7418</td>\n",
       "      <td id=\"T_3ede1_row15_col6\" class=\"data row15 col6\" >0.8990</td>\n",
       "      <td id=\"T_3ede1_row15_col7\" class=\"data row15 col7\" >0.0320</td>\n",
       "    </tr>\n",
       "    <tr>\n",
       "      <th id=\"T_3ede1_level0_row16\" class=\"row_heading level0 row16\" >par</th>\n",
       "      <td id=\"T_3ede1_row16_col0\" class=\"data row16 col0\" >Passive Aggressive Regressor</td>\n",
       "      <td id=\"T_3ede1_row16_col1\" class=\"data row16 col1\" >4537.0122</td>\n",
       "      <td id=\"T_3ede1_row16_col2\" class=\"data row16 col2\" >67346309.9218</td>\n",
       "      <td id=\"T_3ede1_row16_col3\" class=\"data row16 col3\" >8142.7826</td>\n",
       "      <td id=\"T_3ede1_row16_col4\" class=\"data row16 col4\" >0.5422</td>\n",
       "      <td id=\"T_3ede1_row16_col5\" class=\"data row16 col5\" >0.5276</td>\n",
       "      <td id=\"T_3ede1_row16_col6\" class=\"data row16 col6\" >0.3207</td>\n",
       "      <td id=\"T_3ede1_row16_col7\" class=\"data row16 col7\" >0.0390</td>\n",
       "    </tr>\n",
       "    <tr>\n",
       "      <th id=\"T_3ede1_level0_row17\" class=\"row_heading level0 row17\" >en</th>\n",
       "      <td id=\"T_3ede1_row17_col0\" class=\"data row17 col0\" >Elastic Net</td>\n",
       "      <td id=\"T_3ede1_row17_col1\" class=\"data row17 col1\" >7372.5238</td>\n",
       "      <td id=\"T_3ede1_row17_col2\" class=\"data row17 col2\" >90450782.5713</td>\n",
       "      <td id=\"T_3ede1_row17_col3\" class=\"data row17 col3\" >9468.3193</td>\n",
       "      <td id=\"T_3ede1_row17_col4\" class=\"data row17 col4\" >0.3792</td>\n",
       "      <td id=\"T_3ede1_row17_col5\" class=\"data row17 col5\" >0.7342</td>\n",
       "      <td id=\"T_3ede1_row17_col6\" class=\"data row17 col6\" >0.9184</td>\n",
       "      <td id=\"T_3ede1_row17_col7\" class=\"data row17 col7\" >0.0320</td>\n",
       "    </tr>\n",
       "    <tr>\n",
       "      <th id=\"T_3ede1_level0_row18\" class=\"row_heading level0 row18\" >knn</th>\n",
       "      <td id=\"T_3ede1_row18_col0\" class=\"data row18 col0\" >K Neighbors Regressor</td>\n",
       "      <td id=\"T_3ede1_row18_col1\" class=\"data row18 col1\" >8007.7997</td>\n",
       "      <td id=\"T_3ede1_row18_col2\" class=\"data row18 col2\" >131387268.8000</td>\n",
       "      <td id=\"T_3ede1_row18_col3\" class=\"data row18 col3\" >11425.3695</td>\n",
       "      <td id=\"T_3ede1_row18_col4\" class=\"data row18 col4\" >0.0859</td>\n",
       "      <td id=\"T_3ede1_row18_col5\" class=\"data row18 col5\" >0.8535</td>\n",
       "      <td id=\"T_3ede1_row18_col6\" class=\"data row18 col6\" >0.9232</td>\n",
       "      <td id=\"T_3ede1_row18_col7\" class=\"data row18 col7\" >0.0500</td>\n",
       "    </tr>\n",
       "    <tr>\n",
       "      <th id=\"T_3ede1_level0_row19\" class=\"row_heading level0 row19\" >dummy</th>\n",
       "      <td id=\"T_3ede1_row19_col0\" class=\"data row19 col0\" >Dummy Regressor</td>\n",
       "      <td id=\"T_3ede1_row19_col1\" class=\"data row19 col1\" >9192.5418</td>\n",
       "      <td id=\"T_3ede1_row19_col2\" class=\"data row19 col2\" >148516792.8000</td>\n",
       "      <td id=\"T_3ede1_row19_col3\" class=\"data row19 col3\" >12132.4733</td>\n",
       "      <td id=\"T_3ede1_row19_col4\" class=\"data row19 col4\" >-0.0175</td>\n",
       "      <td id=\"T_3ede1_row19_col5\" class=\"data row19 col5\" >1.0154</td>\n",
       "      <td id=\"T_3ede1_row19_col6\" class=\"data row19 col6\" >1.5637</td>\n",
       "      <td id=\"T_3ede1_row19_col7\" class=\"data row19 col7\" >0.0420</td>\n",
       "    </tr>\n",
       "  </tbody>\n",
       "</table>\n"
      ],
      "text/plain": [
       "<pandas.io.formats.style.Styler at 0x1b0dc2f4910>"
      ]
     },
     "metadata": {},
     "output_type": "display_data"
    },
    {
     "data": {
      "application/vnd.jupyter.widget-view+json": {
       "model_id": "",
       "version_major": 2,
       "version_minor": 0
      },
      "text/plain": [
       "Processing:   0%|          | 0/85 [00:00<?, ?it/s]"
      ]
     },
     "metadata": {},
     "output_type": "display_data"
    }
   ],
   "source": [
    "best = compare_models()"
   ]
  },
  {
   "cell_type": "code",
   "execution_count": 30,
   "metadata": {},
   "outputs": [],
   "source": [
    "# The BEST model based on Mean Absolute Error (MAE) is gbr (Gradient Boosting Regressor). Note the lower value of MAE, MSE, and RMSE implies higher accuracy of a regression model."
   ]
  },
  {
   "cell_type": "code",
   "execution_count": 31,
   "metadata": {},
   "outputs": [
    {
     "data": {
      "text/html": [],
      "text/plain": [
       "<IPython.core.display.HTML object>"
      ]
     },
     "metadata": {},
     "output_type": "display_data"
    },
    {
     "data": {
      "image/png": "[encoded data removed]",
      "text/plain": [
       "<Figure size 800x500 with 1 Axes>"
      ]
     },
     "metadata": {
      "needs_background": "light"
     },
     "output_type": "display_data"
    }
   ],
   "source": [
    "plot_model(best, plot = 'feature')"
   ]
  },
  {
   "cell_type": "code",
   "execution_count": 32,
   "metadata": {},
   "outputs": [
    {
     "data": {
      "text/html": [],
      "text/plain": [
       "<IPython.core.display.HTML object>"
      ]
     },
     "metadata": {},
     "output_type": "display_data"
    },
    {
     "data": {
      "image/png": "[encoded data removed]",
      "text/plain": [
       "<Figure size 432x288 with 2 Axes>"
      ]
     },
     "metadata": {
      "needs_background": "light"
     },
     "output_type": "display_data"
    }
   ],
   "source": [
    "plot_model(lr)"
   ]
  },
  {
   "cell_type": "code",
   "execution_count": 33,
   "metadata": {},
   "outputs": [
    {
     "name": "stdout",
     "output_type": "stream",
     "text": [
      "Transformation Pipeline and Model Successfully Saved\n"
     ]
    },
    {
     "data": {
      "text/plain": [
       "(Pipeline(memory=Memory(location=C:\\Users\\user\\AppData\\Local\\Temp\\joblib),\n",
       "          steps=[('numerical_imputer',\n",
       "                  TransformerWrapper(include=['age', 'bmi', 'children'],\n",
       "                                     transformer=SimpleImputer())),\n",
       "                 ('categorical_imputer',\n",
       "                  TransformerWrapper(include=['sex', 'smoker', 'region'],\n",
       "                                     transformer=SimpleImputer(fill_value='constant',\n",
       "                                                               strategy='constant'))),\n",
       "                 ('ordinal_encoding',...\n",
       "                                                                                      'male': 1}},\n",
       "                                                                         {'col': 'smoker',\n",
       "                                                                          'mapping': {nan: -1,\n",
       "                                                                                      'no': 0,\n",
       "                                                                                      'yes': 1}}]))),\n",
       "                 ('onehot_encoding',\n",
       "                  TransformerWrapper(include=['region'],\n",
       "                                     transformer=OneHotEncoder(cols=['region'],\n",
       "                                                               handle_missing='return_nan',\n",
       "                                                               use_cat_names=True))),\n",
       "                 ('low_variance',\n",
       "                  TransformerWrapper(exclude=[],\n",
       "                                     transformer=VarianceThreshold(threshold=0))),\n",
       "                 ['trained_model', LinearRegression(n_jobs=-1)]]),\n",
       " 'deployment_insurance_charges.pkl')"
      ]
     },
     "execution_count": 33,
     "metadata": {},
     "output_type": "execute_result"
    }
   ],
   "source": [
    "#Saving transformation pipeline and model\n",
    "\n",
    "save_model(lr, model_name= 'deployment_insurance_charges')"
   ]
  },
  {
   "cell_type": "code",
   "execution_count": 34,
   "metadata": {},
   "outputs": [],
   "source": [
    "#Training and model selection is completed, the final ML pipeline and linear regression model is saved as a pickle file which will be used in web application to generate predictions on new datapoints"
   ]
  },
  {
   "cell_type": "code",
   "execution_count": 35,
   "metadata": {},
   "outputs": [
    {
     "name": "stdout",
     "output_type": "stream",
     "text": [
      "\n",
      "System:\n",
      "    python: 3.9.12 (main, Apr  4 2022, 05:22:27) [MSC v.1916 64 bit (AMD64)]\n",
      "executable: C:\\Users\\user\\anaconda3\\python.exe\n",
      "   machine: Windows-10-10.0.22000-SP0\n",
      "\n",
      "PyCaret required dependencies:\n",
      "                 pip: 22.2.2\n",
      "          setuptools: 61.2.0\n",
      "             pycaret: 3.0.0.rc3\n",
      "             IPython: 8.2.0\n",
      "          ipywidgets: 7.6.5\n",
      "                tqdm: 4.64.0\n",
      "               numpy: 1.21.5\n",
      "              pandas: 1.4.2\n",
      "              jinja2: 2.11.3\n",
      "               scipy: 1.7.3\n",
      "              joblib: 1.1.0\n",
      "             sklearn: 1.0.2\n",
      "                pyod: Installed but version unavailable\n",
      "            imblearn: 0.9.1\n",
      "   category_encoders: 2.5.0\n",
      "            lightgbm: 3.3.2\n",
      "               numba: 0.55.1\n",
      "            requests: 2.27.1\n",
      "          matplotlib: 3.5.1\n",
      "          scikitplot: 0.3.7\n",
      "         yellowbrick: 1.4\n",
      "              plotly: 5.6.0\n",
      "             kaleido: 0.2.1\n",
      "         statsmodels: 0.13.2\n",
      "              sktime: 0.11.4\n",
      "               tbats: Installed but version unavailable\n",
      "            pmdarima: 1.8.5\n",
      "              psutil: 5.9.1\n"
     ]
    }
   ],
   "source": [
    "from pycaret import show_versions; show_versions()"
   ]
  },
  {
   "cell_type": "markdown",
   "metadata": {},
   "source": [
    "Building Front End web Application ...."
   ]
  }
 ],
 "metadata": {
  "kernelspec": {
   "display_name": "Python 3 (ipykernel)",
   "language": "python",
   "name": "python3"
  },
  "language_info": {
   "codemirror_mode": {
    "name": "ipython",
    "version": 3
   },
   "file_extension": ".py",
   "mimetype": "text/x-python",
   "name": "python",
   "nbconvert_exporter": "python",
   "pygments_lexer": "ipython3",
   "version": "3.9.12"
  },
  "vscode": {
   "interpreter": {
    "hash": "a077222d77dfe082b8f1dd562ad70e458ac2ab76993a0b248ab0476e32e9e8dd"
   }
  }
 },
 "nbformat": 4,
 "nbformat_minor": 4
}
